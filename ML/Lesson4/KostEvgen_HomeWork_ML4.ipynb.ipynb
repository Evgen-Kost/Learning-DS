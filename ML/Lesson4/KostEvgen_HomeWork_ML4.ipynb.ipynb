{
 "cells": [
  {
   "cell_type": "markdown",
   "metadata": {},
   "source": [
    "https://archive.ics.uci.edu/ml/datasets/wine+quality"
   ]
  },
  {
   "cell_type": "code",
   "execution_count": 1,
   "metadata": {},
   "outputs": [],
   "source": [
    "import pandas as pd\n",
    "import numpy as np\n",
    "import matplotlib.pyplot as plt\n",
    "\n",
    "from sklearn import metrics\n",
    "from sklearn.tree import DecisionTreeClassifier \n",
    "from sklearn.model_selection import train_test_split,cross_val_score,GridSearchCV\n",
    "from sklearn.svm import SVC\n",
    "from sklearn.ensemble import BaggingClassifier,RandomForestClassifier,GradientBoostingClassifier,StackingClassifier\n",
    "\n",
    "from xgboost import XGBClassifier\n",
    "from lightgbm import LGBMClassifier\n",
    "from catboost import CatBoostClassifier\n",
    "\n",
    "import warnings\n",
    "warnings.filterwarnings('ignore')\n",
    "\n",
    "#from IPython.core.interactiveshell import InteractiveShell\n",
    "#InteractiveShell.ast_node_interactivity = \"all\"\n",
    "\n",
    "RANDOM_STATE = 42"
   ]
  },
  {
   "cell_type": "markdown",
   "metadata": {},
   "source": [
    "## Выбраны маленькие диапазоны Поиска параметров из-за слабого ПК "
   ]
  },
  {
   "cell_type": "code",
   "execution_count": 2,
   "metadata": {},
   "outputs": [],
   "source": [
    "link = 'https://archive.ics.uci.edu/ml/machine-learning-databases/wine-quality/winequality-red.csv'\n",
    "data = pd.read_csv('winequality-red.csv',sep=';')\n",
    "\n",
    "y = data['quality']\n",
    "X = data.drop('quality',axis=1)\n",
    "#feature_cols = X.columns\n",
    "#data"
   ]
  },
  {
   "cell_type": "markdown",
   "metadata": {},
   "source": [
    "1.Оцените качество по метрике accuracy для классификаторов:\n",
    "\n",
    "DecisionTreeClassifier\n",
    "\n",
    "BaggingClassifier со 100 деревьями\n",
    "\n",
    "RandomForestClassifier со 100 деревьями\n",
    "\n",
    "Сравните результаты и напишите какой вывод можно сделать."
   ]
  },
  {
   "cell_type": "code",
   "execution_count": 3,
   "metadata": {},
   "outputs": [
    {
     "name": "stdout",
     "output_type": "stream",
     "text": [
      "Accuracy_DTC: 0.56875\n",
      "Accuracy_BC: 0.495\n",
      "Accuracy_RFC: 1.0\n"
     ]
    }
   ],
   "source": [
    "X_train, X_test, y_train, y_test = train_test_split(X, y, test_size=0.5, random_state=RANDOM_STATE) \n",
    "\n",
    "clf_DTC = DecisionTreeClassifier().fit(X_train,y_train)\n",
    "y_pred_DTC = clf_DTC.predict(X_test)\n",
    "print(\"Accuracy_DTC:\",metrics.accuracy_score(y_test, y_pred_DTC))\n",
    "\n",
    "clf_BC = BaggingClassifier(base_estimator=SVC(), n_estimators=100, random_state=RANDOM_STATE).fit(X, y)\n",
    "y_pred_BC = clf_BC.predict(X_test)\n",
    "print(\"Accuracy_BC:\",metrics.accuracy_score(y_test, y_pred_BC))\n",
    "\n",
    "clf_RFC = RandomForestClassifier(max_depth=100, random_state=RANDOM_STATE).fit(X, y)\n",
    "y_pred_RFC = clf_RFC.predict(X_test)\n",
    "print(\"Accuracy_RFC:\",metrics.accuracy_score(y_test, y_pred_RFC))\n",
    "\n",
    "# # Для данного массива данных Классификация методом случайных деревьев наиболее выигрышна и позволяет добиться значительного показателя точности"
   ]
  },
  {
   "cell_type": "markdown",
   "metadata": {},
   "source": [
    "2.Разделите выборку на обучающую и тестовую в отношении 70%/30%"
   ]
  },
  {
   "cell_type": "code",
   "execution_count": 4,
   "metadata": {},
   "outputs": [],
   "source": [
    "X_train, X_test, y_train, y_test = train_test_split(X, y, test_size=0.3, random_state=RANDOM_STATE) "
   ]
  },
  {
   "cell_type": "markdown",
   "metadata": {},
   "source": [
    "3.Посчитайте качество на тестовой выборке по метрике accuracy для классификатора RandomForestClassifier, используя значения деревьев:\n",
    "    \n",
    "10, 50, 100, 200, далее с шагом 200 до 5000 деревьев.\n",
    "Постройте график зависимости качества от числа деревьев.\n",
    "\n"
   ]
  },
  {
   "cell_type": "code",
   "execution_count": 5,
   "metadata": {},
   "outputs": [
    {
     "data": {
      "text/plain": [
       "[<matplotlib.lines.Line2D at 0x7f705d23b6d0>]"
      ]
     },
     "execution_count": 5,
     "metadata": {},
     "output_type": "execute_result"
    },
    {
     "data": {
      "image/png": "[encoded data removed]",
      "text/plain": [
       "<Figure size 432x288 with 1 Axes>"
      ]
     },
     "metadata": {
      "needs_background": "light"
     },
     "output_type": "display_data"
    }
   ],
   "source": [
    "list_trees = [10, 50, 100] + [i+200 for i in range(0,5000,200)]\n",
    "list_acc = []\n",
    "\n",
    "for i in range(len(list_trees)): \n",
    "    clf_RFC = RandomForestClassifier(max_depth=list_trees[i], warm_start='true', random_state=RANDOM_STATE).fit(X, y)\n",
    "    y_pred_RFC = clf_RFC.predict(X_test)\n",
    "    list_acc.append(metrics.accuracy_score(y_test, y_pred_RFC))\n",
    "\n",
    "plt.plot(list_trees, list_acc)"
   ]
  },
  {
   "cell_type": "markdown",
   "metadata": {},
   "source": [
    "4.Обучите реализации градиентного бустинга с параметрами по умолчанию из библиотек sklearn и xgboost. Сравните значение метрики accuracy по cross_val_score"
   ]
  },
  {
   "cell_type": "code",
   "execution_count": 6,
   "metadata": {},
   "outputs": [
    {
     "name": "stdout",
     "output_type": "stream",
     "text": [
      "Точность GB : 0.560986\n",
      "Точность XGB: 0.569099\n"
     ]
    }
   ],
   "source": [
    "clf_GB = GradientBoostingClassifier().fit(X_train, y_train)\n",
    "clf_XGB = XGBClassifier().fit(X_train, y_train)\n",
    "\n",
    "n_scores_GB  = np.mean(cross_val_score(clf_GB, X, y))\n",
    "n_scores_XGB = np.mean(cross_val_score(clf_XGB, X, y))\n",
    "print('Точность GB : %f' % (n_scores_GB))\n",
    "print('Точность XGB: %f' % (n_scores_XGB))\n",
    "\n",
    "# X Градиентный бустинг показывает более точный результат"
   ]
  },
  {
   "cell_type": "markdown",
   "metadata": {},
   "source": [
    "5.Подберите оптимальные параметры этих алгоритмов с помощью GridSearchCV(cv=3).\n",
    "Параметры для оптимизации:\n",
    "\n",
    "количество деревьев\n",
    "\n",
    "глубина деревьев\n",
    "\n",
    "оптимизируемый функционал\n",
    "\n",
    "скорость обучения\n",
    "\n",
    "Сравните значение метрики accuracy и скорость работы. Выведите лучшие параметры алгоритмов."
   ]
  },
  {
   "cell_type": "code",
   "execution_count": 28,
   "metadata": {},
   "outputs": [],
   "source": [
    "parametrs_GB = { 'n_estimators': range(60, 71, 10),\n",
    "              'max_depth': range(6, 10, 2),\n",
    "              'learning_rate': np.arange(0.1, 0.21, 0.1),\n",
    "              #'loss': ['deviance','exponential'] \n",
    "               }\n",
    "\n",
    "grid_GB = GridSearchCV(clf_GB, parametrs_GB, cv=3,n_jobs = -1).fit(X_train, y_train)"
   ]
  },
  {
   "cell_type": "code",
   "execution_count": 7,
   "metadata": {},
   "outputs": [],
   "source": [
    "parametrs_XGB = { 'n_estimators': range(60, 71, 10),\n",
    "              'max_depth': range(8, 11, 2),\n",
    "              'learning_rate': np.arange(0.1, 0.21, 0.1),\n",
    "              'loss': ['log_loss', 'deviance', 'exponential'] }\n",
    "\n",
    "grid_XGB = GridSearchCV(clf_XGB, parametrs_XGB, cv=3,n_jobs = -1).fit(X_train, y_train)"
   ]
  },
  {
   "cell_type": "code",
   "execution_count": 29,
   "metadata": {},
   "outputs": [
    {
     "name": "stdout",
     "output_type": "stream",
     "text": [
      "Среднее время    XGB  0.015324\n",
      "Среднее время    GB   0.012026\n",
      "Средная точность XGB  0.628239\n",
      "Средная точность GB   0.633601\n",
      "{'learning_rate': 0.1, 'loss': 'log_loss', 'max_depth': 10, 'n_estimators': 70}\n",
      "{'learning_rate': 0.2, 'max_depth': 6, 'n_estimators': 60}\n"
     ]
    }
   ],
   "source": [
    "#pd.DataFrame(grid_GB.cv_results_)\n",
    "mean_test_score_GB= np.mean(grid_GB.cv_results_['mean_test_score'])\n",
    "mean_score_time_GB= np.mean(grid_GB.cv_results_['mean_score_time'])\n",
    "\n",
    "mean_test_score_XGB= np.mean(grid_XGB.cv_results_['mean_test_score'])\n",
    "mean_score_time_XGB= np.mean(grid_XGB.cv_results_['mean_score_time'])\n",
    "\n",
    "print('Среднее время    XGB  %f' % mean_score_time_XGB)\n",
    "print('Среднее время    GB   %f' % mean_score_time_GB)\n",
    "print('Средная точность XGB  %f' % mean_test_score_XGB)\n",
    "print('Средная точность GB   %f' % mean_test_score_GB)\n",
    "\n",
    "print(grid_XGB.best_params_)\n",
    "print(grid_GB.best_params_)\n",
    "\n",
    "# XBoosting показывает выше точности, а обычный GradientBoosting меньше скорость обработки элементов выборки"
   ]
  },
  {
   "cell_type": "markdown",
   "metadata": {},
   "source": [
    "6.Обучите реализации градиентного бустинга с параметрами по умолчанию из библиотек lightgbm и catboost. Сравните значение метрики accuracy по cross_val_score по всем четырем реализациям."
   ]
  },
  {
   "cell_type": "code",
   "execution_count": null,
   "metadata": {
    "scrolled": true,
    "tags": []
   },
   "outputs": [],
   "source": [
    "%%capture\n",
    "\n",
    "clf_LGBM = LGBMClassifier().fit(X_train, y_train)\n",
    "clf_CB = CatBoostClassifier().fit(X_train, y_train)\n",
    "\n",
    "n_scores_LGBM = np.mean(cross_val_score(clf_LGBM, X, y))\n",
    "n_scores_CB = np.mean(cross_val_score(clf_CB, X, y))"
   ]
  },
  {
   "cell_type": "code",
   "execution_count": 10,
   "metadata": {},
   "outputs": [
    {
     "name": "stdout",
     "output_type": "stream",
     "text": [
      "Точность LGBM: 0.557247\n",
      "Точность CB:   0.545976\n",
      "Точность GB:   0.560986\n",
      "Точность XGB:  0.569099\n"
     ]
    }
   ],
   "source": [
    "print('Точность LGBM: %f' % (n_scores_LGBM))\n",
    "print('Точность CB:   %f' % (n_scores_CB))\n",
    "print('Точность GB:   %f' % (n_scores_GB))\n",
    "print('Точность XGB:  %f' % (n_scores_XGB))\n",
    "\n",
    "# Наиболее высокий показатель точности у XGBoost"
   ]
  },
  {
   "cell_type": "markdown",
   "metadata": {},
   "source": [
    "7.Подберите оптимальные параметры для алгоритмов градиентного бустинга из библиотек lightgbm и catboost с теми же условиями. Выведите лучшие параметры алгоритмов.\n",
    "Сравните значение метрики accuracy и скорость по этим четырем реализациям."
   ]
  },
  {
   "cell_type": "code",
   "execution_count": 17,
   "metadata": {},
   "outputs": [],
   "source": [
    "parametrs_LGBM = { 'n_estimators': range(60, 71, 10),\n",
    "              'max_depth': range(6, 11, 2),\n",
    "              'learning_rate': np.arange(0.1, 0.21, 0.1),\n",
    "              'objective': ['regression', 'regression_l1', 'huber', 'fair'] }\n",
    "\n",
    "grid_LGBM = GridSearchCV(clf_LGBM, parametrs_LGBM, cv=3,n_jobs = -1).fit(X_train, y_train)"
   ]
  },
  {
   "cell_type": "code",
   "execution_count": null,
   "metadata": {
    "scrolled": true,
    "tags": []
   },
   "outputs": [],
   "source": [
    "parametrs_CB = { 'n_estimators': range(30, 51, 10),\n",
    "              'max_depth': range(6, 11, 2),\n",
    "              'learning_rate': np.arange(0.1, 0.21, 0.1) \n",
    "               }\n",
    "\n",
    "grid_CB = GridSearchCV(clf_CB, parametrs_CB, cv=3,n_jobs = -1).fit(X_train, y_train)"
   ]
  },
  {
   "cell_type": "code",
   "execution_count": 30,
   "metadata": {},
   "outputs": [
    {
     "name": "stdout",
     "output_type": "stream",
     "text": [
      "Среднее время    XGB  0.015324\n",
      "Среднее время    GB   0.012026\n",
      "Среднее время    LGBM 0.018228\n",
      "Среднее время    CB   0.018813\n",
      "Средная точность XGB  0.628239\n",
      "Средная точность GB   0.633601\n",
      "Средная точность LGBM 0.615505\n",
      "Средная точность CB   0.623842\n",
      "{'learning_rate': 0.1, 'loss': 'log_loss', 'max_depth': 10, 'n_estimators': 70}\n",
      "{'learning_rate': 0.2, 'max_depth': 6, 'n_estimators': 60}\n",
      "{'learning_rate': 0.1, 'max_depth': 10, 'n_estimators': 60, 'objective': 'regression'}\n",
      "{'learning_rate': 0.2, 'max_depth': 6, 'n_estimators': 30}\n"
     ]
    }
   ],
   "source": [
    "#pd.DataFrame(grid_GB.cv_results_)\n",
    "\n",
    "mean_test_score_LGBM= np.mean(grid_LGBM.cv_results_['mean_test_score'])\n",
    "mean_score_time_LGBM= np.mean(grid_LGBM.cv_results_['mean_score_time'])\n",
    "\n",
    "mean_test_score_CB= np.mean(grid_CB.cv_results_['mean_test_score'])\n",
    "mean_score_time_CB= np.mean(grid_CB.cv_results_['mean_score_time'])\n",
    "\n",
    "print('Среднее время    XGB  %f' % mean_score_time_XGB)\n",
    "print('Среднее время    GB   %f' % mean_score_time_GB)\n",
    "print('Среднее время    LGBM %f' % mean_score_time_LGBM)\n",
    "print('Среднее время    CB   %f' % mean_score_time_CB)\n",
    "\n",
    "print('Средная точность XGB  %f' % mean_test_score_XGB)\n",
    "print('Средная точность GB   %f' % mean_test_score_GB)\n",
    "print('Средная точность LGBM %f' % mean_test_score_LGBM)\n",
    "print('Средная точность CB   %f' % mean_test_score_CB)\n",
    "\n",
    "# Обычный GradientBoosting выиграет миллисекунды, и GradientBoosting показывает выше точнссть\n",
    "print(grid_XGB.best_params_)\n",
    "print(grid_GB.best_params_)\n",
    "print(grid_LGBM.best_params_)\n",
    "print(grid_CB.best_params_)"
   ]
  },
  {
   "cell_type": "markdown",
   "metadata": {},
   "source": [
    "8.Подберите оптимальные параметры алгоритма из библиотеки xgbost с помощью [hyperopt](https://github.com/hyperopt/hyperopt) . Параметры для оптимизации:\n",
    "\n",
    "оптимизируемый функционал\n",
    "\n",
    "скорость обучения\n",
    "\n",
    "количество деревьев\n",
    "\n",
    "глубина деревьев\n",
    "\n",
    "Сравните результат с поиском по сетке из sklearn. Выведите лучшие параметры алгоритма, найденные даным способом."
   ]
  },
  {
   "cell_type": "code",
   "execution_count": 64,
   "metadata": {},
   "outputs": [
    {
     "name": "stdout",
     "output_type": "stream",
     "text": [
      "100%|██████████| 10/10 [00:04<00:00,  2.15trial/s, best loss: -0.5547217010631645]\n",
      "{'learning_rate': 0.4452902060672219, 'max_depth': 3, 'n_estimators': 16}\n",
      "{'learning_rate': 0.1, 'loss': 'log_loss', 'max_depth': 10, 'n_estimators': 70}\n"
     ]
    }
   ],
   "source": [
    "from hyperopt import hp, tpe\n",
    "from hyperopt.fmin import fmin\n",
    "\n",
    "def hyperopt_xgb_score(params):\n",
    "    clf = XGBClassifier(**params)\n",
    "    current_score = cross_val_score(clf, X, y, cv=3).mean()\n",
    "    return -current_score\n",
    "\n",
    "space_xgb = {\n",
    "            'n_estimators': hp.choice('n_estimators',     range(1, 51, 1)),\n",
    "            'learning_rate':hp.uniform('learning_rate',0.1, 0.91),\n",
    "            'max_depth':    hp.choice('max_depth',        range(1, 51, 1)),\n",
    "        }\n",
    "\n",
    "best = fmin(fn=hyperopt_xgb_score, space=space_xgb, algo=tpe.suggest, max_evals=10)\n",
    "\n",
    "print(best)\n",
    "print(grid_XGB.best_params_)\n",
    "\n",
    "# HyperOpt параметры показывают более точные(меньшие) значения, требуется дополнительная проверка выданных параметров"
   ]
  },
  {
   "cell_type": "markdown",
   "metadata": {},
   "source": [
    "9.Выведите качество по метрике accuracy стэкинга (StackingClassifier) 4-х алгоритмов с базовыми параметрами градиентного бустинга."
   ]
  },
  {
   "cell_type": "code",
   "execution_count": null,
   "metadata": {
    "scrolled": true,
    "tags": []
   },
   "outputs": [],
   "source": [
    "estimators = [\n",
    "    ('GB', clf_GB),\n",
    "    ('XGB', clf_XGB),\n",
    "    ('LGBM', clf_LGBM),\n",
    "    ('CB', clf_CB),\n",
    "]\n",
    "\n",
    "clf_Stack = StackingClassifier(\n",
    "    estimators=estimators, n_jobs=-1,verbose='False')\n",
    "\n",
    "clf_Stack.fit(X_train, y_train)"
   ]
  },
  {
   "cell_type": "code",
   "execution_count": 33,
   "metadata": {},
   "outputs": [
    {
     "name": "stdout",
     "output_type": "stream",
     "text": [
      "0.6625\n"
     ]
    }
   ],
   "source": [
    "print(clf_Stack.score(X_test, y_test))"
   ]
  },
  {
   "cell_type": "markdown",
   "metadata": {},
   "source": [
    "10.Выведите качество по метрике accuracy стэкинга 4-х алгоритмов с оптимальными параметрами градиентного бустинга. Сравните результаты с предыдущим шагом и напишите какой вывод можно из этого сделать."
   ]
  },
  {
   "cell_type": "code",
   "execution_count": null,
   "metadata": {
    "scrolled": true,
    "tags": []
   },
   "outputs": [],
   "source": [
    "clf_XGB_updated = XGBClassifier(**grid_XGB.best_params_).fit(X_train, y_train)\n",
    "\n",
    "estimators = [\n",
    "    ('GB', clf_GB),\n",
    "    ('XGB', clf_XGB_updated),\n",
    "    ('LGBM', clf_LGBM),\n",
    "    ('CB', clf_CB),\n",
    "]\n",
    "\n",
    "clf_Stack_updated = StackingClassifier(\n",
    "    estimators=estimators, n_jobs=-1)\n",
    "\n",
    "clf_Stack_updated.fit(X_train, y_train)"
   ]
  },
  {
   "cell_type": "code",
   "execution_count": 35,
   "metadata": {},
   "outputs": [
    {
     "name": "stdout",
     "output_type": "stream",
     "text": [
      "0.6666666666666666\n"
     ]
    }
   ],
   "source": [
    "print(clf_Stack_updated.score(X_test, y_test))\n",
    "\n",
    "# Для текущего набора данных целесообразно использовать оптимальные параметры \n",
    "# одного из 4 классификатора внутри Совместного классификатора, т.к. точность увеличивается"
   ]
  }
 ],
 "metadata": {
  "kernelspec": {
   "display_name": "Python 3 (ipykernel)",
   "language": "python",
   "name": "python3"
  },
  "language_info": {
   "codemirror_mode": {
    "name": "ipython",
    "version": 3
   },
   "file_extension": ".py",
   "mimetype": "text/x-python",
   "name": "python",
   "nbconvert_exporter": "python",
   "pygments_lexer": "ipython3",
   "version": "3.9.7"
  }
 },
 "nbformat": 4,
 "nbformat_minor": 4
}
