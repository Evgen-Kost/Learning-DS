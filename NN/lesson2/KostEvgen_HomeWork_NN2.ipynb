{
 "cells": [
  {
   "cell_type": "markdown",
   "id": "4d9a5663-b4b7-4b82-a820-6c6910bdeb44",
   "metadata": {},
   "source": [
    "## Обучить полносвязную модель на MNIST"
   ]
  },
  {
   "cell_type": "code",
   "execution_count": 1,
   "id": "19df40ac-bcc6-450e-b958-3dd868898871",
   "metadata": {},
   "outputs": [
    {
     "name": "stdout",
     "output_type": "stream",
     "text": [
      "True\n",
      "1\n",
      "0\n",
      "Using device: cuda\n"
     ]
    }
   ],
   "source": [
    "import torch\n",
    "import torch.nn as nn\n",
    "import torchvision.models as models\n",
    "from torchvision import datasets\n",
    "from torch.utils.data import DataLoader\n",
    "import numpy\n",
    "import matplotlib.pyplot as plt\n",
    "\n",
    "\n",
    "train_dataset = datasets.MNIST('/home/mors/Documents/Education/Current/Learning DS/NN/Reload_NN3-master', train = True, download=False)\n",
    "test_dataset = datasets.MNIST('/home/mors/Documents/Education/Current/Learning DS/NN/Reload_NN3-master', train = False, download=False)\n",
    "\n",
    "# Параметры\n",
    "num_epoch = 8\n",
    "batch_size = 256\n",
    "input_d = 28*28\n",
    "hidden_d = 512\n",
    "out_d = 10\n",
    "lr=0.001\n",
    "\n",
    "print(torch.cuda.is_available())\n",
    "print(torch.cuda.device_count())\n",
    "print(torch.cuda.current_device())\n",
    "\n",
    "device = torch.device('cuda' if torch.cuda.is_available() else 'cpu')\n",
    "print('Using device:', device)"
   ]
  },
  {
   "cell_type": "code",
   "execution_count": 2,
   "id": "62f4fb04-5669-4138-b1a9-43460fac7f3a",
   "metadata": {},
   "outputs": [],
   "source": [
    "# олносвязная Модель \n",
    "class NN(nn.Module):\n",
    "    def __init__(self,\n",
    "                 input_dim: int,\n",
    "                 hidden_dim: int,\n",
    "                 out_dim: int,\n",
    "                 ):\n",
    "        super().__init__()\n",
    "        \n",
    "        self.linear1 = nn.Linear(input_dim, hidden_dim, bias=True)\n",
    "        self.dropout1 = nn.Dropout(0.1)\n",
    "        self.linear2 = nn.Linear(hidden_dim, hidden_dim, bias=True)\n",
    "        self.dropout2 = nn.Dropout(0.1)\n",
    "        self.linear3 = nn.Linear(hidden_dim, hidden_dim, bias=True)\n",
    "        self.dropout3 = nn.Dropout(0.1)\n",
    "        self.linear4 = nn.Linear(hidden_dim, out_dim)\n",
    "\n",
    "        self.activation = nn.ReLU()\n",
    "        self.sigmoid = nn.Sigmoid()\n",
    "\n",
    "    def forward(self, x):\n",
    "        x = self.dropout1(self.activation(self.linear1(x)))\n",
    "        x = self.dropout2(self.activation(self.linear2(x)))\n",
    "        x = self.dropout3(self.activation(self.linear3(x)))\n",
    "        x = self.sigmoid(self.linear4(x))\n",
    "\n",
    "        return x\n",
    "\n",
    "\n",
    "def collate_fn(data):\n",
    "    pics = []\n",
    "    targets = []\n",
    "    for item in data:\n",
    "        pics.append(numpy.array(item[0]))\n",
    "        targets.append(item[1])\n",
    "\n",
    "    return {\n",
    "        'data': torch.from_numpy(numpy.array(pics)) / 255, \n",
    "        'target': torch.from_numpy(numpy.array(targets))\n",
    "    }"
   ]
  },
  {
   "cell_type": "code",
   "execution_count": 3,
   "id": "507113fe-1673-4e49-a6bb-d29dede0211a",
   "metadata": {},
   "outputs": [],
   "source": [
    "# Инициируем модель\n",
    "modelNN = NN(input_d, hidden_d, out_d)\n",
    "modelNN = modelNN.to(device)\n",
    "modelNN.train()\n",
    "\n",
    "# Оптимизатор\n",
    "optim = torch.optim.Adam(modelNN.parameters(), lr=lr)\n",
    "\n",
    "# Функция потерь\n",
    "criterion = nn.CrossEntropyLoss()"
   ]
  },
  {
   "cell_type": "code",
   "execution_count": 4,
   "id": "cd5e6117-3d2b-4f80-80b6-604f523720dc",
   "metadata": {},
   "outputs": [
    {
     "name": "stdout",
     "output_type": "stream",
     "text": [
      "epoch: 0\n",
      "tensor(1.5177, device='cuda:0', grad_fn=<NllLossBackward0>)\n",
      "epoch: 1\n",
      "tensor(1.4992, device='cuda:0', grad_fn=<NllLossBackward0>)\n",
      "epoch: 2\n",
      "tensor(1.4827, device='cuda:0', grad_fn=<NllLossBackward0>)\n",
      "epoch: 3\n",
      "tensor(1.4801, device='cuda:0', grad_fn=<NllLossBackward0>)\n",
      "epoch: 4\n",
      "tensor(1.4844, device='cuda:0', grad_fn=<NllLossBackward0>)\n",
      "epoch: 5\n",
      "tensor(1.4694, device='cuda:0', grad_fn=<NllLossBackward0>)\n",
      "epoch: 6\n",
      "tensor(1.4857, device='cuda:0', grad_fn=<NllLossBackward0>)\n",
      "epoch: 7\n",
      "tensor(1.4733, device='cuda:0', grad_fn=<NllLossBackward0>)\n"
     ]
    }
   ],
   "source": [
    "# Тренируем\n",
    "for epoch in range(num_epoch):\n",
    "    print(f'epoch: {epoch}')\n",
    "    data_loader = DataLoader(dataset=train_dataset,\n",
    "                             batch_size=batch_size,\n",
    "                             shuffle=True,\n",
    "                             collate_fn=collate_fn,\n",
    "                             drop_last=True,\n",
    "                             )\n",
    "    for step, batch in enumerate(data_loader):\n",
    "        optim.zero_grad()\n",
    "        data = batch['data'].to(device).float()\n",
    "        predict = modelNN(data.view(data.size(0), -1))\n",
    "        loss = criterion(predict, batch['target'].to(device))\n",
    "        loss.backward()\n",
    "        optim.step()\n",
    "    print(loss)"
   ]
  },
  {
   "cell_type": "code",
   "execution_count": 5,
   "id": "097a397c-cc3d-434c-9384-701b7cc71fd8",
   "metadata": {},
   "outputs": [
    {
     "data": {
      "image/png": "[encoded data removed]",
      "text/plain": [
       "<Figure size 432x288 with 1 Axes>"
      ]
     },
     "metadata": {
      "needs_background": "light"
     },
     "output_type": "display_data"
    },
    {
     "data": {
      "image/png": "[encoded data removed]",
      "text/plain": [
       "<Figure size 432x288 with 1 Axes>"
      ]
     },
     "metadata": {
      "needs_background": "light"
     },
     "output_type": "display_data"
    }
   ],
   "source": [
    "test = test_dataset.data[9999].view(1, -1).float() / 255\n",
    "\n",
    "plt.imshow(test[0].view(28, 28).detach().numpy())\n",
    "plt.show()\n",
    "\n",
    "predict = modelNN(test.cuda())\n",
    "\n",
    "plt.imshow(test[0].unsqueeze(axis=0).view(28, 28).detach().numpy())\n",
    "plt.show()"
   ]
  },
  {
   "cell_type": "markdown",
   "id": "41b18dd5-924f-43b7-8def-b7002bbf5ccf",
   "metadata": {},
   "source": [
    "## Обучить глубокую сверточную сеть на MNIST"
   ]
  },
  {
   "cell_type": "code",
   "execution_count": 6,
   "id": "fbc0b13c-062a-4cae-bdce-f020e3d6bbe2",
   "metadata": {},
   "outputs": [],
   "source": [
    "# Параметры\n",
    "input_d = 1\n",
    "hidden_d = 512\n",
    "hidden_d1 = 128\n",
    "hidden_d2 = 256\n",
    "hidden_d3 = 128\n",
    "out_d = 10"
   ]
  },
  {
   "cell_type": "code",
   "execution_count": 7,
   "id": "3207c369-e7fb-42d5-96e1-089dafe88d06",
   "metadata": {},
   "outputs": [],
   "source": [
    "# Сверточная модель\n",
    "class CNN(nn.Module):\n",
    "    def __init__(self,\n",
    "                 in_channels: int,\n",
    "                 hidden_channels1: int,\n",
    "                 hidden_channels2: int,\n",
    "                 hidden_channels3: int,\n",
    "                 n_classes: int,\n",
    "                 ):\n",
    "        super().__init__()\n",
    "        \n",
    "        self.conv1 = nn.Conv2d(in_channels, hidden_channels1, kernel_size=5, padding=2, stride=2)\n",
    "        self.bn1 = nn.BatchNorm2d(hidden_channels1)\n",
    "        self.conv2 = nn.Conv2d(hidden_channels1, hidden_channels2, kernel_size=3, padding=1, stride=1)\n",
    "        self.bn2 = nn.BatchNorm2d(hidden_channels2)\n",
    "        self.conv3 = nn.Conv2d(hidden_channels2, hidden_channels3, kernel_size=3, padding=1, stride=1)\n",
    "        self.bn3 = nn.BatchNorm2d(hidden_channels3)\n",
    "        self.conv4 = nn.Conv2d(hidden_channels3, 1, kernel_size=1, padding=0, stride=1)\n",
    "        self.linear1 = nn.Linear(14*14, n_classes, bias=True)\n",
    "\n",
    "        self.activation = nn.ReLU()\n",
    "\n",
    "    def forward(self, x):\n",
    "        x = self.activation(self.bn1(self.conv1(x)))\n",
    "        x = self.activation(self.bn2(self.conv2(x)))\n",
    "        x = self.activation(self.bn3(self.conv3(x)))\n",
    "        x = self.activation(self.conv4(x))\n",
    "        x = self.activation(self.linear1(x.view(x.size(0), -1)))\n",
    "\n",
    "        return x\n",
    "\n",
    "\n",
    "def collate_fn(data):\n",
    "    pics = []\n",
    "    targets = []\n",
    "    for item in data:\n",
    "        pics.append(numpy.array(item[0]))\n",
    "        targets.append(item[1])\n",
    "\n",
    "    return {\n",
    "        'data': torch.from_numpy(numpy.array(pics)) / 255, \n",
    "        'target': torch.from_numpy(numpy.array(targets))\n",
    "    }"
   ]
  },
  {
   "cell_type": "code",
   "execution_count": 8,
   "id": "9bd9ea03-66e1-4699-a5b1-100a2fe142e8",
   "metadata": {},
   "outputs": [],
   "source": [
    "# Инициируем модель\n",
    "modelCNN = CNN(input_d, hidden_d1, hidden_d2, hidden_d3, out_d)\n",
    "modelCNN = modelCNN.to(device)\n",
    "modelCNN.train()\n",
    "\n",
    "# Оптимизатор\n",
    "optim = torch.optim.Adam(modelCNN.parameters(), lr=lr)\n",
    "\n",
    "# Функция потерь\n",
    "criterion = nn.CrossEntropyLoss()"
   ]
  },
  {
   "cell_type": "code",
   "execution_count": 9,
   "id": "6417a431-5e01-4975-945e-870f670705e8",
   "metadata": {},
   "outputs": [
    {
     "name": "stdout",
     "output_type": "stream",
     "text": [
      "epoch: 0\n",
      "tensor(1.4745, device='cuda:0', grad_fn=<NllLossBackward0>)\n",
      "epoch: 1\n",
      "tensor(1.4692, device='cuda:0', grad_fn=<NllLossBackward0>)\n",
      "epoch: 2\n",
      "tensor(1.4762, device='cuda:0', grad_fn=<NllLossBackward0>)\n",
      "epoch: 3\n",
      "tensor(1.4685, device='cuda:0', grad_fn=<NllLossBackward0>)\n",
      "epoch: 4\n",
      "tensor(1.4672, device='cuda:0', grad_fn=<NllLossBackward0>)\n",
      "epoch: 5\n",
      "tensor(1.4665, device='cuda:0', grad_fn=<NllLossBackward0>)\n",
      "epoch: 6\n",
      "tensor(1.4716, device='cuda:0', grad_fn=<NllLossBackward0>)\n",
      "epoch: 7\n",
      "tensor(1.4790, device='cuda:0', grad_fn=<NllLossBackward0>)\n"
     ]
    }
   ],
   "source": [
    "# Тренируем\n",
    "for epoch in range(num_epoch):\n",
    "    print(f'epoch: {epoch}')\n",
    "    data_loader = DataLoader(dataset=train_dataset,\n",
    "                             batch_size=batch_size,\n",
    "                             shuffle=True,\n",
    "                             collate_fn=collate_fn,\n",
    "                             drop_last=True,\n",
    "                             )\n",
    "    for step, batch in enumerate(data_loader):\n",
    "        optim.zero_grad()\n",
    "        data = batch['data'].to(device).float()\n",
    "        predict = modelNN(data.view(data.size(0), -1))\n",
    "        loss = criterion(predict, batch['target'].to(device))\n",
    "        loss.backward()\n",
    "        optim.step()\n",
    "    print(loss)"
   ]
  }
 ],
 "metadata": {
  "kernelspec": {
   "display_name": "Python 3 (ipykernel)",
   "language": "python",
   "name": "python3"
  },
  "language_info": {
   "codemirror_mode": {
    "name": "ipython",
    "version": 3
   },
   "file_extension": ".py",
   "mimetype": "text/x-python",
   "name": "python",
   "nbconvert_exporter": "python",
   "pygments_lexer": "ipython3",
   "version": "3.9.12"
  }
 },
 "nbformat": 4,
 "nbformat_minor": 5
}
