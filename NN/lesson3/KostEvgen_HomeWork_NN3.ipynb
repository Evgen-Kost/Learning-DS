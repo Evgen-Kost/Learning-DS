{
 "cells": [
  {
   "cell_type": "markdown",
   "id": "4d9a5663-b4b7-4b82-a820-6c6910bdeb44",
   "metadata": {},
   "source": [
    "## Обучить AE собственной архитектуры на MNIST"
   ]
  },
  {
   "cell_type": "code",
   "execution_count": 1,
   "id": "19df40ac-bcc6-450e-b958-3dd868898871",
   "metadata": {},
   "outputs": [
    {
     "name": "stdout",
     "output_type": "stream",
     "text": [
      "True\n",
      "1\n",
      "0\n",
      "Using device: cuda\n"
     ]
    }
   ],
   "source": [
    "import torch\n",
    "import torch.nn as nn\n",
    "from torchvision import datasets\n",
    "from torch.utils.data import DataLoader\n",
    "import matplotlib.pyplot as plt\n",
    "import gc\n",
    "import torchvision\n",
    "\n",
    "train_dataset = datasets.MNIST('/home/mors/Documents/Education/Current/Learning DS/NN/Reload_NN3-master', \n",
    "train = True, download=False,transform=torchvision.transforms.ToTensor())\n",
    "test_dataset = datasets.MNIST('/home/mors/Documents/Education/Current/Learning DS/NN/Reload_NN3-master', \n",
    "train = False, download=False,transform=torchvision.transforms.ToTensor())\n",
    "\n",
    "# Параметры\n",
    "num_epoch = 8\n",
    "batch_size = 256\n",
    "input_d = 28*28\n",
    "lr=0.001\n",
    "\n",
    "print(torch.cuda.is_available())\n",
    "print(torch.cuda.device_count())\n",
    "print(torch.cuda.current_device())\n",
    "\n",
    "device = torch.device('cuda' if torch.cuda.is_available() else 'cpu')\n",
    "#device = torch.device('cpu')\n",
    "print('Using device:', device)"
   ]
  },
  {
   "cell_type": "code",
   "execution_count": 2,
   "id": "62f4fb04-5669-4138-b1a9-43460fac7f3a",
   "metadata": {},
   "outputs": [],
   "source": [
    "class AutoEncoder(nn.Module):\n",
    "    def __init__(self):\n",
    "        super().__init__()\n",
    "\n",
    "        self.encoder = nn.Sequential(\n",
    "            nn.Linear(input_d, 128),\n",
    "            nn.ReLU(),\n",
    "            nn.Dropout(0.1),\n",
    "            nn.Linear(128, 64),\n",
    "            nn.ReLU(),\n",
    "            nn.Linear(64, 16),\n",
    "            nn.Dropout(0.1),\n",
    "            nn.ReLU(),\n",
    "            nn.Linear(16, 4)\n",
    "        )\n",
    "        self.decoder = nn.Sequential(\n",
    "            nn.Linear(4, 16),\n",
    "            nn.ReLU(),\n",
    "            nn.Linear(16, 64),\n",
    "            nn.ReLU(),\n",
    "            nn.Linear(64, 128),\n",
    "            nn.ReLU(),\n",
    "            nn.Linear(128, input_d),\n",
    "            nn.ReLU()\n",
    "        )\n",
    "\n",
    "    def forward(self, inputs):\n",
    "        zip = self.encoder(inputs)\n",
    "        unzip = self.decoder(zip)\n",
    "\n",
    "        return zip, unzip"
   ]
  },
  {
   "cell_type": "code",
   "execution_count": 3,
   "id": "507113fe-1673-4e49-a6bb-d29dede0211a",
   "metadata": {},
   "outputs": [],
   "source": [
    "# Инициируем модель\n",
    "gc.collect()\n",
    "torch.cuda.empty_cache()\n",
    "\n",
    "modelAE = AutoEncoder()\n",
    "modelAE = modelAE.to(device)\n",
    "modelAE.train()\n",
    "\n",
    "# Оптимизатор\n",
    "optim = torch.optim.Adam(modelAE.parameters(), lr=lr)\n",
    "\n",
    "# Функция потерь\n",
    "criterio = nn.MSELoss()"
   ]
  },
  {
   "cell_type": "code",
   "execution_count": 4,
   "id": "cd5e6117-3d2b-4f80-80b6-604f523720dc",
   "metadata": {},
   "outputs": [
    {
     "name": "stdout",
     "output_type": "stream",
     "text": [
      "[1/8] Loss: 0.06131401285529137\n",
      "[2/8] Loss: 0.046459298580884933\n",
      "[3/8] Loss: 0.04394404590129852\n",
      "[4/8] Loss: 0.04148127883672714\n",
      "[5/8] Loss: 0.04202933982014656\n",
      "[6/8] Loss: 0.041376058012247086\n",
      "[7/8] Loss: 0.039710018783807755\n",
      "[8/8] Loss: 0.040887173265218735\n"
     ]
    }
   ],
   "source": [
    "# Обрабатываем\n",
    "for epoch in range(num_epoch):\n",
    "    data_loader = DataLoader(dataset=train_dataset,\n",
    "                             batch_size=batch_size,\n",
    "                             shuffle=True,\n",
    "                             drop_last=True,\n",
    "                             )\n",
    "\n",
    "    for data, labels in data_loader:\n",
    "        inputs = data.view(-1, 28*28).to(device)\n",
    "\n",
    "        zip, unzip = modelAE(inputs)\n",
    "\n",
    "        optim.zero_grad()\n",
    "        loss = criterio(unzip, inputs)\n",
    "        loss.backward()\n",
    "        optim.step()\n",
    "\n",
    "    print('[{}/{}] Loss:'.format(epoch+1, num_epoch), loss.item())\n"
   ]
  },
  {
   "cell_type": "code",
   "execution_count": 5,
   "id": "097a397c-cc3d-434c-9384-701b7cc71fd8",
   "metadata": {},
   "outputs": [
    {
     "data": {
      "image/png": "[encoded data removed]",
      "text/plain": [
       "<Figure size 432x288 with 1 Axes>"
      ]
     },
     "metadata": {
      "needs_background": "light"
     },
     "output_type": "display_data"
    },
    {
     "data": {
      "image/png": "[encoded data removed]",
      "text/plain": [
       "<Figure size 432x288 with 1 Axes>"
      ]
     },
     "metadata": {
      "needs_background": "light"
     },
     "output_type": "display_data"
    }
   ],
   "source": [
    "inputs = (test_dataset.data[0].view(-1, 28*28).float() / 255).to(device)\n",
    "plt.imshow(test_dataset.data[0])\n",
    "plt.show()\n",
    "#---\n",
    "code, outputs = modelAE(inputs)\n",
    "plt.imshow(outputs.view(28, 28).cpu().detach().numpy())\n",
    "plt.show()"
   ]
  },
  {
   "cell_type": "markdown",
   "id": "41b18dd5-924f-43b7-8def-b7002bbf5ccf",
   "metadata": {},
   "source": [
    "## Обучить VAE собственной архитектуры на MNIST"
   ]
  },
  {
   "cell_type": "code",
   "execution_count": 15,
   "id": "19df40ac-bcc6-450e-b958-3dd868898871",
   "metadata": {},
   "outputs": [
    {
     "name": "stdout",
     "output_type": "stream",
     "text": [
      "True\n",
      "1\n",
      "0\n",
      "Using device: cuda\n"
     ]
    }
   ],
   "source": [
    "import torch\n",
    "import torch.nn as nn\n",
    "from torchvision import datasets\n",
    "from torch.utils.data import DataLoader\n",
    "import matplotlib.pyplot as plt\n",
    "import gc\n",
    "import torchvision\n",
    "import torch.nn.functional as F\n",
    "\n",
    "# Параметры\n",
    "num_epochs = 8\n",
    "batch_size = 256\n",
    "lr=0.001\n",
    "\n",
    "train_dataset = datasets.MNIST('/home/mors/Documents/Education/Current/Learning DS/NN/Reload_NN3-master', \n",
    "    train = True, download=False,transform=torchvision.transforms.ToTensor())\n",
    "test_dataset = datasets.MNIST('/home/mors/Documents/Education/Current/Learning DS/NN/Reload_NN3-master', \n",
    "    train = False, download=False,transform=torchvision.transforms.ToTensor())\n",
    "\n",
    "train_loader = DataLoader(train_dataset, batch_size=batch_size, shuffle=True)\n",
    "\n",
    "print(torch.cuda.is_available())\n",
    "print(torch.cuda.device_count())\n",
    "print(torch.cuda.current_device())\n",
    "\n",
    "device = torch.device('cuda' if torch.cuda.is_available() else 'cpu')\n",
    "print('Using device:', device)"
   ]
  },
  {
   "cell_type": "code",
   "execution_count": 16,
   "id": "3207c369-e7fb-42d5-96e1-089dafe88d06",
   "metadata": {},
   "outputs": [],
   "source": [
    "class VAE(nn.Module):\n",
    "    def __init__(self, in_ch=1, hidden_ch=32*20*20, out_ch=256):\n",
    "        super(VAE, self).__init__()\n",
    "        \n",
    "        self.enConv1 = nn.Conv2d(in_ch, 16, 5)\n",
    "        self.enConv2 = nn.Conv2d(16, 32, 5)\n",
    "        self.enFC1 = nn.Linear(hidden_ch, out_ch)\n",
    "        self.enFC2 = nn.Linear(hidden_ch, out_ch)\n",
    "        \n",
    "        self.deFC1 = nn.Linear(out_ch, hidden_ch)\n",
    "        self.deConv1 = nn.ConvTranspose2d(32, 16, 5)\n",
    "        self.deConv2 = nn.ConvTranspose2d(16, in_ch, 5)\n",
    "        \n",
    "    def encoder(self, x):\n",
    "        \n",
    "        x = nn.ReLU()(self.enConv1(x))\n",
    "        x = nn.ReLU()(self.enConv2(x))\n",
    "        x = x.view(-1, 32*20*20)\n",
    "        mu = self.enFC1(x)\n",
    "        logVar = self.enFC2(x)\n",
    "        return mu, logVar\n",
    "    \n",
    "    def reparameterize(self, mu, logVar):\n",
    "        std = torch.exp(logVar /2)\n",
    "        eps = torch.rand_like(std)\n",
    "        \n",
    "        return mu + eps * std\n",
    "        \n",
    "        \n",
    "    def decoder(self, z):\n",
    "        x = nn.ReLU()(self.deFC1(z))\n",
    "        x = x.view(-1, 32, 20, 20)\n",
    "        x = nn.ReLU()(self.deConv1(x))\n",
    "        x = torch.sigmoid(self.deConv2(x))\n",
    "        return x\n",
    "    \n",
    "    def forward(self, x):\n",
    "        mu, logVar = self.encoder(x)\n",
    "        z = self.reparameterize(mu, logVar)\n",
    "        out = self.decoder(z)\n",
    "        return out, mu, logVar\n",
    "        "
   ]
  },
  {
   "cell_type": "code",
   "execution_count": 17,
   "id": "9bd9ea03-66e1-4699-a5b1-100a2fe142e8",
   "metadata": {},
   "outputs": [],
   "source": [
    "# Инициируем модель\n",
    "modelVAE = VAE().to(device)\n",
    "modelVAE.train()\n",
    "\n",
    "# Оптимизатор\n",
    "optim = torch.optim.Adam(modelVAE.parameters(), lr=lr)"
   ]
  },
  {
   "cell_type": "code",
   "execution_count": 19,
   "id": "6417a431-5e01-4975-945e-870f670705e8",
   "metadata": {},
   "outputs": [
    {
     "name": "stdout",
     "output_type": "stream",
     "text": [
      "[1/8] Loss: 8401.5400390625\n",
      "[2/8] Loss: 8186.921875\n",
      "[3/8] Loss: 7426.11376953125\n",
      "[4/8] Loss: 7828.63525390625\n",
      "[5/8] Loss: 7612.18505859375\n",
      "[6/8] Loss: 7480.2646484375\n",
      "[7/8] Loss: 7117.3544921875\n",
      "[8/8] Loss: 7123.1318359375\n"
     ]
    }
   ],
   "source": [
    "# Тренируем\n",
    "\n",
    "gc.collect()\n",
    "torch.cuda.empty_cache()\n",
    "\n",
    "for epoch in range(num_epochs):\n",
    "    for step, batch in enumerate(train_loader):\n",
    "        data, _ = batch\n",
    "        data = data.view(-1, 1,  28, 28).float().to(device)\n",
    "        out, mu, logVar = modelVAE(data)\n",
    "        \n",
    "        kl = 0.5 * torch.sum(-1 - logVar + mu.pow(2) + logVar.exp())\n",
    "        loss = F.binary_cross_entropy(out, data, size_average=False) + kl\n",
    "        \n",
    "        optim.zero_grad()\n",
    "        loss.backward()\n",
    "        optim.step()\n",
    "    print('[{}/{}] Loss:'.format(epoch+1, num_epochs), loss.item())"
   ]
  },
  {
   "cell_type": "code",
   "execution_count": 20,
   "id": "6417a431-5e01-4975-945e-870f670705e8",
   "metadata": {},
   "outputs": [
    {
     "data": {
      "image/png": "[encoded data removed]",
      "text/plain": [
       "<Figure size 432x288 with 1 Axes>"
      ]
     },
     "metadata": {
      "needs_background": "light"
     },
     "output_type": "display_data"
    },
    {
     "data": {
      "image/png": "[encoded data removed]",
      "text/plain": [
       "<Figure size 432x288 with 1 Axes>"
      ]
     },
     "metadata": {
      "needs_background": "light"
     },
     "output_type": "display_data"
    }
   ],
   "source": [
    "img = (test_dataset.data[5555].view(-1, 1,  28, 28).float() / 255).to(device)\n",
    "plt.imshow(test_dataset.data[5555])\n",
    "plt.show()\n",
    "#---\n",
    "out, mu, logVAR = modelVAE(img)\n",
    "plt.imshow(out.view(28, 28).cpu().detach().numpy())\n",
    "plt.show()"
   ]
  }
 ],
 "metadata": {
  "kernelspec": {
   "display_name": "Python 3.9.12 ('base')",
   "language": "python",
   "name": "python3"
  },
  "language_info": {
   "codemirror_mode": {
    "name": "ipython",
    "version": 3
   },
   "file_extension": ".py",
   "mimetype": "text/x-python",
   "name": "python",
   "nbconvert_exporter": "python",
   "pygments_lexer": "ipython3",
   "version": "3.9.12"
  },
  "vscode": {
   "interpreter": {
    "hash": "f9664aef0baf30e2b509990f72aa3245ea02a06f685dd1680e2e8f9c3deed265"
   }
  }
 },
 "nbformat": 4,
 "nbformat_minor": 5
}
