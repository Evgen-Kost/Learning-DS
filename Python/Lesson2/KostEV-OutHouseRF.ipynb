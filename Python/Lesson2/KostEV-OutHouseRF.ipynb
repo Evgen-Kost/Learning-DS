{
 "cells": [
  {
   "cell_type": "markdown",
   "metadata": {
    "pycharm": {
     "name": "#%% md\n"
    }
   },
   "source": [
    "# Задание\n",
    "* Собрать информацию о всех строящихся объектах на сайте \"наш.дом.рф\"\n",
    "* Cохранить ее в pandas dataframe\n",
    "* Cохранить pandas dataframe в excel\n",
    "* Cохранить pandas dataframe в pickle\n",
    "* Cохранить pandas dataframe в БД\n",
    "\n",
    "# Задание *\n",
    "* Написать скрипт, который скачивает фотографии всех строящихся объектов с сайта \"наш.дом.рф\"\n"
   ]
  },
  {
   "cell_type": "markdown",
   "metadata": {},
   "source": [
    "---"
   ]
  },
  {
   "cell_type": "code",
   "execution_count": null,
   "metadata": {
    "collapsed": true,
    "jupyter": {
     "outputs_hidden": false
    },
    "pycharm": {
     "name": "#%%\n"
    }
   },
   "outputs": [],
   "source": [
    "import requests"
   ]
  },
  {
   "cell_type": "code",
   "execution_count": null,
   "metadata": {
    "collapsed": true,
    "jupyter": {
     "outputs_hidden": false
    },
    "pycharm": {
     "name": "#%%\n"
    }
   },
   "outputs": [],
   "source": [
    "import pandas as pd"
   ]
  },
  {
   "cell_type": "code",
   "execution_count": null,
   "metadata": {
    "collapsed": true
   },
   "outputs": [],
   "source": [
    "import os"
   ]
  },
  {
   "cell_type": "markdown",
   "metadata": {},
   "source": [
    "---"
   ]
  },
  {
   "cell_type": "markdown",
   "metadata": {},
   "source": [
    "# Внимание\n",
    "При запуске ноутбука - будьте осторожны, уникальных объектов более 10.000, и внутри каждого объекта список фотографий.\n",
    "\n",
    "В папке проекта будет создано столько же папок со всеми фотографиями внутри.\n",
    "\n",
    "Для тестирования переменную limit_ советуется установить = 1 "
   ]
  },
  {
   "cell_type": "markdown",
   "metadata": {},
   "source": [
    "---"
   ]
  },
  {
   "cell_type": "markdown",
   "metadata": {
    "pycharm": {
     "name": "#%% md\n"
    },
    "tags": []
   },
   "source": [
    "# Скачиваем список строящихся объектов\n",
    "Фильтрация строящихся объектов происходит в API запросе по фильтру objStatus=0\n",
    "\n",
    "offset - начальная позиция с которой забираем данные\n",
    "\n",
    "limit  - количество данных за запрос"
   ]
  },
  {
   "cell_type": "code",
   "execution_count": null,
   "metadata": {
    "collapsed": true,
    "jupyter": {
     "outputs_hidden": false
    },
    "pycharm": {
     "name": "#%%\n"
    }
   },
   "outputs": [],
   "source": [
    "i = 0 # небольшая переменная для подстраховки при перечислении\n",
    "offset_ = 0 # с какой точки берем данные в каждом запросе\n",
    "limit_ = 1 # как много брать данных за один запрос\n",
    "objects_list = [] # полученные данные\n",
    "\n",
    "while i < 20:\n",
    "    # Формируем URL для скачивания данных\n",
    "    url = f'https://xn--80az8a.xn--d1aqf.xn--p1ai/%D1%81%D0%B5%D1%80%D0%B2%D0%B8%D1%81%D1%8B/api/kn/object?' \\\n",
    "          f'offset={offset_}&limit={limit_}&sortField=devId.devShortCleanNm&sortType=asc&objStatus=0'\n",
    "    res = requests.get(url)\n",
    "    objects_data = res.json()\n",
    "    # Складываем полученные данные из запроса в общий список\n",
    "    objects_list_temp = objects_data.get('data').get('list')\n",
    "    objects_list.extend(objects_list_temp)\n",
    "    # Если данных стало меньше чем лимит - значит данные подошли к концу\n",
    "    offset_ += limit_ + 1\n",
    "    i += 1\n",
    "    if len(objects_list_temp) < limit_:\n",
    "        break"
   ]
  },
  {
   "cell_type": "markdown",
   "metadata": {},
   "source": [
    "## Создаем DataFrame со всеми данными строящихся домов"
   ]
  },
  {
   "cell_type": "code",
   "execution_count": null,
   "metadata": {
    "collapsed": true,
    "jupyter": {
     "outputs_hidden": false
    },
    "pycharm": {
     "name": "#%%\n"
    }
   },
   "outputs": [],
   "source": [
    "df = pd.json_normalize(objects_list)"
   ]
  },
  {
   "cell_type": "markdown",
   "metadata": {
    "jupyter": {
     "outputs_hidden": false
    },
    "pycharm": {
     "name": "#%%\n"
    }
   },
   "source": [
    "---"
   ]
  },
  {
   "cell_type": "markdown",
   "metadata": {},
   "source": [
    "## Сохраняем полученные данные в Excel, Pickle, DB SQL"
   ]
  },
  {
   "cell_type": "code",
   "execution_count": null,
   "metadata": {
    "collapsed": true
   },
   "outputs": [],
   "source": [
    "df.to_excel(\"НашДомРФ.xlsx\",sheet_name=\"construction\")\n",
    "#df_excel = pd.read_excel(\"НашДомРФ.xlsx\")\n",
    "#df_excel"
   ]
  },
  {
   "cell_type": "code",
   "execution_count": null,
   "metadata": {
    "collapsed": true
   },
   "outputs": [],
   "source": [
    "df.to_pickle(\"НашДомРФ.pkl\")\n",
    "#df_pickle = pd.read_pickle(\"НашДомРФ.pkl\")\n",
    "#df_pickle"
   ]
  },
  {
   "cell_type": "code",
   "execution_count": null,
   "metadata": {
    "collapsed": true
   },
   "outputs": [],
   "source": [
    "from sqlalchemy import create_engine\n",
    "engine = create_engine('sqlite://', echo=False)\n",
    "\n",
    "df.to_sql('construction',engine)\n",
    "#engine.execute(\"SELECT * FROM construction\").fetchall()"
   ]
  },
  {
   "cell_type": "markdown",
   "metadata": {},
   "source": [
    "---"
   ]
  },
  {
   "cell_type": "markdown",
   "metadata": {},
   "source": [
    "# Скачиваем фотографии каждого объекта в отдельную папку"
   ]
  },
  {
   "cell_type": "code",
   "execution_count": null,
   "metadata": {
    "collapsed": true
   },
   "outputs": [],
   "source": [
    "# Получаем уникальные идентификаторы для формирования каждого отдельного запроса\n",
    "objids = [x.get('objId') for x in objects_list]\n",
    "for objId in objids:\n",
    "    # Формируем URL для скачивания данных\n",
    "    building_url = f'https://xn--80az8a.xn--d1aqf.xn--p1ai/%D1%81%D0%B5%D1%80%D0%B2%D0%B8%D1%81%D1%8B' \\\n",
    "                   f'/api/object/{objId}'\n",
    "    building_res = requests.get(building_url)\n",
    "    building_data = building_res.json()\n",
    "    # Формируем уникальное имя для папки (ID и адрес)\n",
    "    building_address = str(building_data.get('data').get('id')) + ': ' + building_data.get('data').get('address')\n",
    "    # Проверяем существует ли уже такая папка с данными, если нет - создаем\n",
    "    isExist = os.path.exists(building_address)\n",
    "    if not isExist:\n",
    "        os.makedirs(building_address, exist_ok=False)\n",
    "    # Получаем список данных фотографий объекта\n",
    "    building_photos = building_data.get('data').get('photoRenderDTO')\n",
    "    for building_photo in building_photos:\n",
    "        # Формируем URL для скачивания данных\n",
    "        building_photo_url = building_photo.get('objRenderPhotoUrl')\n",
    "        building_photo_file_name = building_address + '/' + building_photo.get('objRenderPhotoNm')\n",
    "        res = requests.get(building_photo_url)\n",
    "        # Сохраняем каждую фотографию в отдельную папку объекта\n",
    "        with open(f'{building_photo_file_name}', 'wb') as f:\n",
    "            f.write(res.content)"
   ]
  }
 ],
 "metadata": {
  "kernelspec": {
   "display_name": "Python 3",
   "language": "python",
   "name": "python3"
  },
  "language_info": {
   "codemirror_mode": {
    "name": "ipython",
    "version": 3
   },
   "file_extension": ".py",
   "mimetype": "text/x-python",
   "name": "python",
   "nbconvert_exporter": "python",
   "pygments_lexer": "ipython3",
   "version": "3.6.1"
  }
 },
 "nbformat": 4,
 "nbformat_minor": 4
}
