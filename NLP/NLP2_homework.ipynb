{
  "cells": [
    {
      "cell_type": "markdown",
      "metadata": {
        "id": "OYZRf1ncz-sT"
      },
      "source": [
        "NLP2_1\n",
        "https://www.hackerrank.com/challenges/detect-the-email-addresses/problem?isFullScreen=true"
      ]
    },
    {
      "cell_type": "markdown",
      "metadata": {
        "id": "jKzbIfdq0CKr"
      },
      "source": [
        "NLP2_2 https://www.hackerrank.com/challenges/detect-the-domain-name/problem?isFullScreen=true"
      ]
    },
    {
      "cell_type": "markdown",
      "metadata": {
        "id": "b5DQQnoU1bXY"
      },
      "source": [
        "NLP2_3 Реализовать классификатор токсичных комментариев bag-of-words (-tfidf) на базе датасета\n",
        "https://www.kaggle.com/datasets/blackmoon/russian-language-toxic-comments  \n",
        "\n",
        "Дубликат файла: https://cloud.mail.ru/public/Z4L3/vB8GcgTtK"
      ]
    },
    {
      "cell_type": "code",
      "execution_count": 1,
      "metadata": {
        "id": "0BRC1-k81pIW"
      },
      "outputs": [],
      "source": [
        "#NLP2_1 https://www.hackerrank.com/challenges/detect-the-email-addresses/problem?isFullScreen=true\n",
        "\n",
        "Regex_Pattern = r'^<[A-Za-z](\\w|-|\\.|_)+@[A-Za-z]+\\.[A-Za-z]{1,3}>$'"
      ]
    },
    {
      "cell_type": "code",
      "execution_count": null,
      "metadata": {
        "id": "0BRC1-k81pIW"
      },
      "outputs": [],
      "source": [
        "#NLP2_2 https://www.hackerrank.com/challenges/detect-the-domain-name/problem?isFullScreen=true\n",
        "\n",
        "Regex_Pattern = r\"\"\"https?://(?:ww[w2]\\.){0,1}([\\w\\d\\-\\.]*\\.\\w+)[/?\"]\"\"\""
      ]
    },
    {
      "cell_type": "code",
      "execution_count": 48,
      "metadata": {
        "id": "0BRC1-k81pIW"
      },
      "outputs": [
        {
          "name": "stdout",
          "output_type": "stream",
          "text": [
            "(10088, 54091)\n",
            "(4324, 54091)\n",
            "Точность:  0.793940795559667\n"
          ]
        }
      ],
      "source": [
        "#NLP2_3 Реализовать классификатор токсичных комментариев bag-of-words (-tfidf) на базе датасета https://www.kaggle.com/datasets/blackmoon/russian-language-toxic-comments  \n",
        "\n",
        "import numpy as np\n",
        "import pandas as pd\n",
        "from nltk.corpus import stopwords\n",
        "from sklearn.metrics import accuracy_score\n",
        "from sklearn.model_selection import train_test_split\n",
        "from sklearn.ensemble import RandomForestClassifier\n",
        "from sklearn.feature_extraction.text import CountVectorizer\n",
        "\n",
        "df = pd.read_csv('labeled.csv')\n",
        "\n",
        "X_train, X_test, Y_train, Y_test = train_test_split(df['comment'], df['toxic'], test_size = 0.3, random_state=42)\n",
        "\n",
        "russian_stopwords = stopwords.words(\"russian\")\n",
        "vectorizer = CountVectorizer(stop_words=russian_stopwords)\n",
        "\n",
        "X_train_vect = vectorizer.fit_transform(X_train)\n",
        "print(X_train_vect.shape)\n",
        "\n",
        "X_test_vect = vectorizer.transform(X_test)\n",
        "print(X_test_vect.shape)\n",
        "\n",
        "RFClassifier = RandomForestClassifier() \n",
        "RFClassifier = RFClassifier.fit( X_train_vect, Y_train)\n",
        "\n",
        "predict = RFClassifier.predict(X_test_vect) \n",
        "print(\"Точность: \", accuracy_score(Y_test, predict))"
      ]
    }
  ],
  "metadata": {
    "colab": {
      "name": "NLP2-homework",
      "provenance": []
    },
    "kernelspec": {
      "display_name": "Python 3.9.12 ('base')",
      "language": "python",
      "name": "python3"
    },
    "language_info": {
      "codemirror_mode": {
        "name": "ipython",
        "version": 3
      },
      "file_extension": ".py",
      "mimetype": "text/x-python",
      "name": "python",
      "nbconvert_exporter": "python",
      "pygments_lexer": "ipython3",
      "version": "3.9.12"
    },
    "vscode": {
      "interpreter": {
        "hash": "f9664aef0baf30e2b509990f72aa3245ea02a06f685dd1680e2e8f9c3deed265"
      }
    }
  },
  "nbformat": 4,
  "nbformat_minor": 0
}
