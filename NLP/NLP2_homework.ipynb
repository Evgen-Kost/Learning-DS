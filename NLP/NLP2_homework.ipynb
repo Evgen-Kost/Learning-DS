{
  "cells": [
    {
      "cell_type": "markdown",
      "metadata": {
        "id": "OYZRf1ncz-sT"
      },
      "source": [
        "NLP2_1\n",
        "https://www.hackerrank.com/challenges/detect-the-email-addresses/problem?isFullScreen=true"
      ]
    },
    {
      "cell_type": "markdown",
      "metadata": {
        "id": "jKzbIfdq0CKr"
      },
      "source": [
        "NLP2_2 https://www.hackerrank.com/challenges/detect-the-domain-name/problem?isFullScreen=true"
      ]
    },
    {
      "cell_type": "markdown",
      "metadata": {
        "id": "b5DQQnoU1bXY"
      },
      "source": [
        "NLP2_3 Реализовать классификатор токсичных комментариев bag-of-words (-tfidf) на базе датасета\n",
        "https://www.kaggle.com/datasets/blackmoon/russian-language-toxic-comments  \n",
        "\n",
        "Дубликат файла: https://cloud.mail.ru/public/Z4L3/vB8GcgTtK"
      ]
    },
    {
      "cell_type": "code",
      "execution_count": 1,
      "metadata": {
        "id": "0BRC1-k81pIW"
      },
      "outputs": [],
      "source": [
        "#NLP2_1 https://www.hackerrank.com/challenges/detect-the-email-addresses/problem?isFullScreen=true\n",
        "\n",
        "Regex_Pattern = r'^<[A-Za-z](\\w|-|\\.|_)+@[A-Za-z]+\\.[A-Za-z]{1,3}>$'"
      ]
    },
    {
      "cell_type": "code",
      "execution_count": null,
      "metadata": {
        "id": "0BRC1-k81pIW"
      },
      "outputs": [],
      "source": [
        "#NLP2_2 https://www.hackerrank.com/challenges/detect-the-domain-name/problem?isFullScreen=true\n",
        "\n",
        "Regex_Pattern = r\"\"\"https?://(?:ww[w2]\\.){0,1}([\\w\\d\\-\\.]*\\.\\w+)[/?\"]\"\"\""
      ]
    },
    {
      "cell_type": "code",
      "execution_count": 48,
      "metadata": {
        "id": "0BRC1-k81pIW"
      },
      "outputs": [
        {
          "name": "stdout",
          "output_type": "stream",
          "text": [
            "(10088, 54091)\n",
            "(4324, 54091)\n",
            "Точность:  0.793940795559667\n"
          ]
        }
      ],
      "source": [
        "#NLP2_3 Реализовать классификатор токсичных комментариев bag-of-words (-tfidf) на базе датасета https://www.kaggle.com/datasets/blackmoon/russian-language-toxic-comments  \n",
        "\n",
        "import numpy as np\n",
        "import pandas as pd\n",
        "from nltk.corpus import stopwords\n",
        "from sklearn.metrics import accuracy_score\n",
        "from sklearn.model_selection import train_test_split\n",
        "from sklearn.ensemble import RandomForestClassifier\n",
        "from sklearn.feature_extraction.text import CountVectorizer\n",
        "\n",
        "df = pd.read_csv('labeled.csv')\n",
        "\n",
        "X_train, X_test, Y_train, Y_test = train_test_split(df['comment'], df['toxic'], test_size = 0.3, random_state=42)\n",
        "\n",
        "russian_stopwords = stopwords.words(\"russian\")\n",
        "vectorizer = CountVectorizer(stop_words=russian_stopwords)\n",
        "\n",
        "X_train_vect = vectorizer.fit_transform(X_train)\n",
        "print(X_train_vect.shape)\n",
        "\n",
        "X_test_vect = vectorizer.transform(X_test)\n",
        "print(X_test_vect.shape)\n",
        "\n",
        "RFClassifier = RandomForestClassifier() \n",
        "RFClassifier = RFClassifier.fit( X_train_vect, Y_train)\n",
        "\n",
        "predict = RFClassifier.predict(X_test_vect) \n",
        "print(\"Точность: \", accuracy_score(Y_test, predict))"
      ]
    },
    {
      "cell_type": "code",
      "execution_count": 1,
      "metadata": {
        "id": "0BRC1-k81pIW"
      },
      "outputs": [
        {
          "name": "stdout",
          "output_type": "stream",
          "text": [
            "(10088, 54091)\n",
            "(4324, 54091)\n",
            "Точность:  0.7955596669750231\n"
          ]
        }
      ],
      "source": [
        "#NLP2_3 Реализовать классификатор токсичных комментариев tfidf на базе датасета https://www.kaggle.com/datasets/blackmoon/russian-language-toxic-comments  \n",
        "\n",
        "import pandas as pd\n",
        "from nltk.corpus import stopwords\n",
        "from sklearn.metrics import accuracy_score\n",
        "from sklearn.model_selection import train_test_split\n",
        "from sklearn.ensemble import RandomForestClassifier\n",
        "from sklearn.feature_extraction.text import TfidfVectorizer\n",
        "\n",
        "#---\n",
        "\n",
        "df = pd.read_csv('labeled.csv')\n",
        "\n",
        "X_train, X_test, Y_train, Y_test = train_test_split(df['comment'], df['toxic'], test_size = 0.3, random_state=42)\n",
        "\n",
        "russian_stopwords = stopwords.words(\"russian\")\n",
        "\n",
        "#---\n",
        "\n",
        "tfidf_vectorizer = TfidfVectorizer(stop_words=russian_stopwords) \n",
        "\n",
        "X_train_vect = tfidf_vectorizer.fit_transform(X_train)\n",
        "print(X_train_vect.shape)\n",
        "\n",
        "RFClassifier = RandomForestClassifier() \n",
        "RFClassifier = RFClassifier.fit( X_train_vect, Y_train)\n",
        "\n",
        "#---\n",
        "\n",
        "X_test_vect = tfidf_vectorizer.transform(X_test)\n",
        "print(X_test_vect.shape)\n",
        "\n",
        "predict = RFClassifier.predict(X_test_vect) \n",
        "print(\"Точность: \", accuracy_score(Y_test, predict))"
      ]
    },
    {
      "cell_type": "code",
      "execution_count": 2,
      "metadata": {
        "id": "0BRC1-k81pIW"
      },
      "outputs": [
        {
          "data": {
            "text/html": [
              "<div>\n",
              "<style scoped>\n",
              "    .dataframe tbody tr th:only-of-type {\n",
              "        vertical-align: middle;\n",
              "    }\n",
              "\n",
              "    .dataframe tbody tr th {\n",
              "        vertical-align: top;\n",
              "    }\n",
              "\n",
              "    .dataframe thead th {\n",
              "        text-align: right;\n",
              "    }\n",
              "</style>\n",
              "<table border=\"1\" class=\"dataframe\">\n",
              "  <thead>\n",
              "    <tr style=\"text-align: right;\">\n",
              "      <th></th>\n",
              "      <th>tfidf</th>\n",
              "    </tr>\n",
              "  </thead>\n",
              "  <tbody>\n",
              "    <tr>\n",
              "      <th>новгород</th>\n",
              "      <td>0.415744</td>\n",
              "    </tr>\n",
              "    <tr>\n",
              "      <th>нижний</th>\n",
              "      <td>0.387361</td>\n",
              "    </tr>\n",
              "    <tr>\n",
              "      <th>поезда</th>\n",
              "      <td>0.373470</td>\n",
              "    </tr>\n",
              "    <tr>\n",
              "      <th>каждые</th>\n",
              "      <td>0.359579</td>\n",
              "    </tr>\n",
              "    <tr>\n",
              "      <th>ходят</th>\n",
              "      <td>0.340000</td>\n",
              "    </tr>\n",
              "    <tr>\n",
              "      <th>...</th>\n",
              "      <td>...</td>\n",
              "    </tr>\n",
              "    <tr>\n",
              "      <th>клеят</th>\n",
              "      <td>0.000000</td>\n",
              "    </tr>\n",
              "    <tr>\n",
              "      <th>клиент</th>\n",
              "      <td>0.000000</td>\n",
              "    </tr>\n",
              "    <tr>\n",
              "      <th>клиента</th>\n",
              "      <td>0.000000</td>\n",
              "    </tr>\n",
              "    <tr>\n",
              "      <th>клиентам</th>\n",
              "      <td>0.000000</td>\n",
              "    </tr>\n",
              "    <tr>\n",
              "      <th>ётавских</th>\n",
              "      <td>0.000000</td>\n",
              "    </tr>\n",
              "  </tbody>\n",
              "</table>\n",
              "<p>54091 rows × 1 columns</p>\n",
              "</div>"
            ],
            "text/plain": [
              "             tfidf\n",
              "новгород  0.415744\n",
              "нижний    0.387361\n",
              "поезда    0.373470\n",
              "каждые    0.359579\n",
              "ходят     0.340000\n",
              "...            ...\n",
              "клеят     0.000000\n",
              "клиент    0.000000\n",
              "клиента   0.000000\n",
              "клиентам  0.000000\n",
              "ётавских  0.000000\n",
              "\n",
              "[54091 rows x 1 columns]"
            ]
          },
          "execution_count": 2,
          "metadata": {},
          "output_type": "execute_result"
        }
      ],
      "source": [
        "feature_names = tfidf_vectorizer.get_feature_names_out()\n",
        "first_document_vector=X_train_vect[1]\n",
        "df_tfifd= pd.DataFrame(first_document_vector.T.todense(), index=feature_names, columns=[\"tfidf\"])\n",
        "df_tfifd.sort_values(by=[\"tfidf\"],ascending=False)"
      ]
    }
  ],
  "metadata": {
    "colab": {
      "name": "NLP2-homework",
      "provenance": []
    },
    "kernelspec": {
      "display_name": "Python 3.9.12 ('base')",
      "language": "python",
      "name": "python3"
    },
    "language_info": {
      "codemirror_mode": {
        "name": "ipython",
        "version": 3
      },
      "file_extension": ".py",
      "mimetype": "text/x-python",
      "name": "python",
      "nbconvert_exporter": "python",
      "pygments_lexer": "ipython3",
      "version": "3.9.12"
    },
    "vscode": {
      "interpreter": {
        "hash": "f9664aef0baf30e2b509990f72aa3245ea02a06f685dd1680e2e8f9c3deed265"
      }
    }
  },
  "nbformat": 4,
  "nbformat_minor": 0
}
